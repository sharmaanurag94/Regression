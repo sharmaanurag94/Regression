{
 "cells": [
  {
   "cell_type": "markdown",
   "metadata": {},
   "source": [
    "<h2><u>Machine Learning</u></h2>\n",
    "\n",
    "# Supervised Learning : Regresssion\n"
   ]
  },
  {
   "cell_type": "markdown",
   "metadata": {},
   "source": [
    "In this demo, you will be pre-processing the data using various pre-processing techniques and also train/test split the data"
   ]
  },
  {
   "cell_type": "markdown",
   "metadata": {},
   "source": [
    "---"
   ]
  },
  {
   "cell_type": "markdown",
   "metadata": {},
   "source": [
    "<div style=\"background-color:##EDF9FF\">\n",
    " <ul><li><h3>Simple imputer</h3></li></ul>\n",
    "</div>"
   ]
  },
  {
   "cell_type": "code",
   "execution_count": 1,
   "metadata": {},
   "outputs": [
    {
     "name": "stdout",
     "output_type": "stream",
     "text": [
      "Before:\n",
      "    one  two\n",
      "a  1.0  1.0\n",
      "b  2.0  2.0\n",
      "c  NaN  3.0\n",
      "d  NaN  4.0\n",
      "e  5.0  NaN\n",
      "After:\n",
      "         one  two\n",
      "0  1.000000  1.0\n",
      "1  2.000000  2.0\n",
      "2  2.666667  3.0\n",
      "3  2.666667  4.0\n",
      "4  5.000000  2.5\n"
     ]
    }
   ],
   "source": [
    "import pandas\n",
    "import numpy as np\n",
    "data = {'one': pandas.Series([1, 2, 5], \n",
    "                             index=['a', 'b', 'e']),\n",
    "        'two': pandas.Series([1, 2, 3, 4], \n",
    "                             index=['a', 'b', 'c', 'd'])}\n",
    "table = pandas.DataFrame(data)\n",
    "print(\"Before:\\n\",table)\n",
    "\n",
    "from sklearn.impute import SimpleImputer\n",
    "imputer = SimpleImputer(missing_values=np.nan, strategy='mean')\n",
    "imputer.fit(table)\n",
    "imputed_data = imputer.transform(table.values)\n",
    "print(\"After:\\n\",pandas.DataFrame(imputed_data, columns=['one','two']))"
   ]
  },
  {
   "cell_type": "markdown",
   "metadata": {},
   "source": [
    "#<div style=\"background-color:##EDF9FF\">\n",
    " <ul><li><h3>loan_info dataframe</h3></li></ul>\n",
    "</div>"
   ]
  },
  {
   "cell_type": "code",
   "execution_count": 2,
   "metadata": {},
   "outputs": [
    {
     "name": "stdout",
     "output_type": "stream",
     "text": [
      "   Customer_id       Loan_type Income\n",
      "0            1       Home Loan    30K\n",
      "1            2   Personal Loan    25K\n",
      "2            3  Education Loan    15K\n",
      "3            4       Home Loan    40K\n",
      "4            5     Credit Loan    35K\n"
     ]
    }
   ],
   "source": [
    "import pandas as pd\n",
    "data = {'Customer_id': pd.Series([1,2,3,4,5]),\n",
    "        'Loan_type': pd.Series(['Home Loan',\n",
    "                                'Personal Loan',\n",
    "                                'Education Loan',\n",
    "                                'Home Loan',\n",
    "                                'Credit Loan']),\n",
    "        'Income': pd.Series(['30K','25K',\n",
    "                        '15K','40K','35K'])}\n",
    "loan_info = pd.DataFrame(data)\n",
    "print(loan_info)\n",
    "\n"
   ]
  },
  {
   "cell_type": "markdown",
   "metadata": {},
   "source": [
    "<div style=\"background-color:##EDF9FF\">\n",
    " <ul><li><h3>get-dummies</h3></li></ul>\n",
    "</div>"
   ]
  },
  {
   "cell_type": "code",
   "execution_count": 3,
   "metadata": {},
   "outputs": [
    {
     "name": "stdout",
     "output_type": "stream",
     "text": [
      "   Customer_id  Loan_type_Credit Loan  Loan_type_Education Loan  \\\n",
      "0            1                      0                         0   \n",
      "1            2                      0                         0   \n",
      "2            3                      0                         1   \n",
      "3            4                      0                         0   \n",
      "4            5                      1                         0   \n",
      "\n",
      "   Loan_type_Home Loan  Loan_type_Personal Loan  Income_15K  Income_25K  \\\n",
      "0                    1                        0           0           0   \n",
      "1                    0                        1           0           1   \n",
      "2                    0                        0           1           0   \n",
      "3                    1                        0           0           0   \n",
      "4                    0                        0           0           0   \n",
      "\n",
      "   Income_30K  Income_35K  Income_40K  \n",
      "0           1           0           0  \n",
      "1           0           0           0  \n",
      "2           0           0           0  \n",
      "3           0           0           1  \n",
      "4           0           1           0  \n"
     ]
    }
   ],
   "source": [
    "import pandas as pd\n",
    "data = {'Customer_id': pd.Series([1,2,3,4,5]),\n",
    "        'Loan_type': pd.Series(['Home Loan',\n",
    "                                'Personal Loan',\n",
    "                                'Education Loan',\n",
    "                                'Home Loan',\n",
    "                                'Credit Loan']),\n",
    "        'Income': pd.Series(['30K','25K',\n",
    "                        '15K','40K','35K'])}\n",
    "loan_info = pd.get_dummies(loan_info, \n",
    "                        prefix_sep='_', \n",
    "                        drop_first=False)\n",
    "print(loan_info)"
   ]
  },
  {
   "cell_type": "markdown",
   "metadata": {},
   "source": [
    "<div style=\"background-color:##EDF9FF\">\n",
    " <ul><li><h3>label-encoder</h3></li></ul>\n",
    "</div>"
   ]
  },
  {
   "cell_type": "code",
   "execution_count": 4,
   "metadata": {},
   "outputs": [
    {
     "name": "stdout",
     "output_type": "stream",
     "text": [
      "   Customer_id  Loan_type  Income\n",
      "0            0          2       2\n",
      "1            1          3       1\n",
      "2            2          1       0\n",
      "3            3          2       4\n",
      "4            4          0       3\n"
     ]
    }
   ],
   "source": [
    "import pandas as pd\n",
    "data = {'Customer_id': pd.Series([1,2,3,4,5]),\n",
    "        'Loan_type': pd.Series(['Home Loan',\n",
    "                                'Personal Loan',\n",
    "                                'Education Loan',\n",
    "                                'Home Loan',\n",
    "                                'Credit Loan']),\n",
    "        'Income': pd.Series(['30K','25K','15K',\n",
    "                             '40K','35K'])}\n",
    "loan_info = pd.DataFrame(data)\n",
    "\n",
    "from sklearn.preprocessing import LabelEncoder\n",
    "labelencoder = LabelEncoder()\n",
    "loan_info_upd=loan_info.apply(labelencoder.fit_transform)\n",
    "print(loan_info_upd)"
   ]
  },
  {
   "cell_type": "markdown",
   "metadata": {},
   "source": [
    "<div style=\"background-color:##EDF9FF\">\n",
    " <ul><li><h3>OneHotEncoding</h3></li></ul>\n",
    "</div>"
   ]
  },
  {
   "cell_type": "code",
   "execution_count": 5,
   "metadata": {},
   "outputs": [
    {
     "name": "stdout",
     "output_type": "stream",
     "text": [
      "[[1. 0. 0. 0. 0. 0. 0. 1. 0. 0. 0. 1. 0. 0.]\n",
      " [0. 1. 0. 0. 0. 0. 0. 0. 1. 0. 1. 0. 0. 0.]\n",
      " [0. 0. 1. 0. 0. 0. 1. 0. 0. 1. 0. 0. 0. 0.]\n",
      " [0. 0. 0. 1. 0. 0. 0. 1. 0. 0. 0. 0. 0. 1.]\n",
      " [0. 0. 0. 0. 1. 1. 0. 0. 0. 0. 0. 0. 1. 0.]]\n"
     ]
    }
   ],
   "source": [
    "import pandas as pd\n",
    "data = {'Customer_id': pd.Series([1,2,3,4,5]),\n",
    "        'Loan_type': pd.Series(['Home Loan',\n",
    "                                'Personal Loan',\n",
    "                                'Education Loan',\n",
    "                                'Home Loan',\n",
    "                                'Credit Loan']),\n",
    "        'Income': pd.Series(['30K','25K','15K',\n",
    "                             '40K','35K'])}\n",
    "loan_info = pd.DataFrame(data)\n",
    "\n",
    "from sklearn.preprocessing import OneHotEncoder\n",
    "onehotencoder = OneHotEncoder()\n",
    "X = onehotencoder.fit_transform(loan_info).toarray()\n",
    "print(X)"
   ]
  },
  {
   "cell_type": "markdown",
   "metadata": {},
   "source": [
    "<div style=\"background-color:##EDF9FF\">\n",
    " <ul><li><h3>Standard Scaler</h3></li></ul>\n",
    "</div>"
   ]
  },
  {
   "cell_type": "code",
   "execution_count": 6,
   "metadata": {},
   "outputs": [
    {
     "name": "stdout",
     "output_type": "stream",
     "text": [
      "Before Scaling\n",
      " [[-100.3]\n",
      " [  27.5]\n",
      " [   0. ]\n",
      " [-200.9]\n",
      " [1000. ]]\n",
      "\n",
      "After standard scaler\n",
      " [[-0.5646401 ]\n",
      " [-0.27077707]\n",
      " [-0.33401051]\n",
      " [-0.79595951]\n",
      " [ 1.96538718]]\n"
     ]
    }
   ],
   "source": [
    "import numpy as np\n",
    "from sklearn import preprocessing\n",
    "\n",
    "data1 = np.array([[-100.3],\n",
    "                  [27.5], \n",
    "                  [0],\n",
    "                  [-200.9],\n",
    "                  [1000]])\n",
    "print('Before Scaling\\n',data1)\n",
    "\n",
    "standard_scaler = preprocessing.StandardScaler()\n",
    "scaled = standard_scaler.fit_transform(data1)\n",
    "print('\\nAfter standard scaler\\n',scaled)"
   ]
  },
  {
   "cell_type": "markdown",
   "metadata": {},
   "source": [
    "<div style=\"background-color:##EDF9FF\">\n",
    " <ul><li><h3>Min-Max Scaler</h3></li></ul>\n",
    "</div>"
   ]
  },
  {
   "cell_type": "code",
   "execution_count": 7,
   "metadata": {},
   "outputs": [
    {
     "name": "stdout",
     "output_type": "stream",
     "text": [
      "Before scaling\n",
      " [[-100.3]\n",
      " [  27.5]\n",
      " [   0. ]\n",
      " [-200.9]\n",
      " [1000. ]]\n",
      "\n",
      "After Min-Max Scaler\n",
      " [[1.08377051]\n",
      " [1.19019069]\n",
      " [1.1672912 ]\n",
      " [1.        ]\n",
      " [2.        ]]\n"
     ]
    }
   ],
   "source": [
    "import numpy as np\n",
    "from sklearn import preprocessing\n",
    "\n",
    "data1 = np.array([[-100.3],\n",
    "                  [27.5], \n",
    "                  [0],\n",
    "                  [-200.9],\n",
    "                  [1000]])\n",
    "print('Before scaling\\n',data1)\n",
    "\n",
    "minmax_scale = preprocessing.MinMaxScaler(feature_range=(1, 2))\n",
    "scaled = minmax_scale.fit_transform(data1)\n",
    "print('\\nAfter Min-Max Scaler\\n',scaled)"
   ]
  },
  {
   "cell_type": "markdown",
   "metadata": {},
   "source": [
    "<div style=\"background-color:##EDF9FF\">\n",
    " <ul><li><h3>Robust Scaler</h3></li></ul>\n",
    "</div>"
   ]
  },
  {
   "cell_type": "code",
   "execution_count": 8,
   "metadata": {},
   "outputs": [
    {
     "name": "stdout",
     "output_type": "stream",
     "text": [
      "Before Scaling\n",
      " [[-100.3]\n",
      " [  27.5]\n",
      " [   0. ]\n",
      " [-200.9]\n",
      " [1000. ]]\n",
      "\n",
      " After Robust Scaler\n",
      " [[-0.78482003]\n",
      " [ 0.21517997]\n",
      " [ 0.        ]\n",
      " [-1.57198748]\n",
      " [ 7.82472613]]\n"
     ]
    }
   ],
   "source": [
    "import numpy as np\n",
    "from sklearn import preprocessing\n",
    "\n",
    "data1 = np.array([[-100.3],\n",
    "                  [27.5], \n",
    "                  [0],\n",
    "                  [-200.9],\n",
    "                  [1000]])\n",
    "print('Before Scaling\\n',data1)\n",
    "\n",
    "robust_scaler = preprocessing.RobustScaler()\n",
    "scaled = robust_scaler.fit_transform(data1)\n",
    "print('\\n After Robust Scaler\\n',scaled)"
   ]
  },
  {
   "cell_type": "markdown",
   "metadata": {},
   "source": [
    "<div style=\"background-color:##EDF9FF\">\n",
    " <ul><li><h3>Normalization</h3></li></ul>\n",
    "</div>"
   ]
  },
  {
   "cell_type": "code",
   "execution_count": 9,
   "metadata": {},
   "outputs": [
    {
     "name": "stdout",
     "output_type": "stream",
     "text": [
      "Before Normalization\n",
      " [[5.1 3.5 1.4 0.2]\n",
      " [4.9 3.  1.4 0.2]\n",
      " [4.7 3.2 1.3 0.2]\n",
      " [4.6 3.1 1.5 0.2]\n",
      " [5.  3.6 1.4 0.2]]\n",
      "\n",
      "After Normalization\n",
      " [[0.80377277 0.55160877 0.22064351 0.0315205 ]\n",
      " [0.82813287 0.50702013 0.23660939 0.03380134]\n",
      " [0.80533308 0.54831188 0.2227517  0.03426949]\n",
      " [0.80003025 0.53915082 0.26087943 0.03478392]\n",
      " [0.790965   0.5694948  0.2214702  0.0316386 ]]\n"
     ]
    }
   ],
   "source": [
    "import numpy as np\n",
    "from sklearn import preprocessing\n",
    "\n",
    "data = np.array(\n",
    "    [[5.1,3.5,1.4,0.2],\n",
    "     [4.9,3.0,1.4,0.2],\n",
    "     [4.7,3.2,1.3,0.2],\n",
    "     [4.6,3.1,1.5,0.2],\n",
    "     [5.0,3.6,1.4,0.2]])\n",
    "print('Before Normalization\\n',data)\n",
    "\n",
    "normalized_data = preprocessing.normalize(data)\n",
    "print('\\nAfter Normalization\\n',normalized_data)"
   ]
  },
  {
   "cell_type": "markdown",
   "metadata": {},
   "source": [
    "<div style=\"background-color:##EDF9FF\">\n",
    " <ul><li><h3>Feature Selection</h3></li></ul>\n",
    "</div>"
   ]
  },
  {
   "cell_type": "code",
   "execution_count": 11,
   "metadata": {
    "scrolled": false
   },
   "outputs": [
    {
     "data": {
      "image/png": "[encoded data removed]",
      "text/plain": [
       "<Figure size 432x432 with 2 Axes>"
      ]
     },
     "metadata": {
      "needs_background": "light"
     },
     "output_type": "display_data"
    }
   ],
   "source": [
    "import pandas as pd\n",
    "import numpy as np\n",
    "import seaborn as sns\n",
    "import matplotlib.pyplot as plt\n",
    "#import the dataset\n",
    "df = pd.read_csv(\"Car_sales.csv\")\n",
    "#drop the unwanted columns\n",
    "df=df.drop(['4-year resale value','Price in thousands'],axis=1) \n",
    "#get correlations of each features in dataset\n",
    "corr_mat = df.corr()\n",
    "top_corr_features = corr_mat.index\n",
    "#plot the figure using matplot lib\n",
    "plt.figure(figsize=(6,6))\n",
    "#plot heat map using seaborn\n",
    "x=sns.heatmap(df[top_corr_features].corr(),annot=True,cmap=\"RdYlGn\")"
   ]
  },
  {
   "cell_type": "code",
   "execution_count": 13,
   "metadata": {
    "scrolled": true
   },
   "outputs": [
    {
     "data": {
      "text/html": [
       "<div>\n",
       "<style scoped>\n",
       "    .dataframe tbody tr th:only-of-type {\n",
       "        vertical-align: middle;\n",
       "    }\n",
       "\n",
       "    .dataframe tbody tr th {\n",
       "        vertical-align: top;\n",
       "    }\n",
       "\n",
       "    .dataframe thead th {\n",
       "        text-align: right;\n",
       "    }\n",
       "</style>\n",
       "<table border=\"1\" class=\"dataframe\">\n",
       "  <thead>\n",
       "    <tr style=\"text-align: right;\">\n",
       "      <th></th>\n",
       "      <th>Unnamed: 2</th>\n",
       "      <th>Engine size</th>\n",
       "      <th>Horsepower</th>\n",
       "      <th>Wheelbase</th>\n",
       "      <th>Width</th>\n",
       "      <th>Length</th>\n",
       "      <th>Curb weight</th>\n",
       "      <th>Fuel capacity</th>\n",
       "      <th>Fuel efficiency</th>\n",
       "      <th>Sales in thousands</th>\n",
       "    </tr>\n",
       "  </thead>\n",
       "  <tbody>\n",
       "    <tr>\n",
       "      <th>Unnamed: 2</th>\n",
       "      <td>NaN</td>\n",
       "      <td>NaN</td>\n",
       "      <td>NaN</td>\n",
       "      <td>NaN</td>\n",
       "      <td>NaN</td>\n",
       "      <td>NaN</td>\n",
       "      <td>NaN</td>\n",
       "      <td>NaN</td>\n",
       "      <td>NaN</td>\n",
       "      <td>NaN</td>\n",
       "    </tr>\n",
       "    <tr>\n",
       "      <th>Engine size</th>\n",
       "      <td>NaN</td>\n",
       "      <td>1.000000</td>\n",
       "      <td>0.837360</td>\n",
       "      <td>0.472130</td>\n",
       "      <td>0.690398</td>\n",
       "      <td>0.541424</td>\n",
       "      <td>0.760043</td>\n",
       "      <td>0.663022</td>\n",
       "      <td>-0.734622</td>\n",
       "      <td>0.019983</td>\n",
       "    </tr>\n",
       "    <tr>\n",
       "      <th>Horsepower</th>\n",
       "      <td>NaN</td>\n",
       "      <td>0.837360</td>\n",
       "      <td>1.000000</td>\n",
       "      <td>0.286308</td>\n",
       "      <td>0.539158</td>\n",
       "      <td>0.393364</td>\n",
       "      <td>0.610131</td>\n",
       "      <td>0.499907</td>\n",
       "      <td>-0.611332</td>\n",
       "      <td>-0.197756</td>\n",
       "    </tr>\n",
       "    <tr>\n",
       "      <th>Wheelbase</th>\n",
       "      <td>NaN</td>\n",
       "      <td>0.472130</td>\n",
       "      <td>0.286308</td>\n",
       "      <td>1.000000</td>\n",
       "      <td>0.683135</td>\n",
       "      <td>0.839639</td>\n",
       "      <td>0.651016</td>\n",
       "      <td>0.654044</td>\n",
       "      <td>-0.497931</td>\n",
       "      <td>0.358179</td>\n",
       "    </tr>\n",
       "    <tr>\n",
       "      <th>Width</th>\n",
       "      <td>NaN</td>\n",
       "      <td>0.690398</td>\n",
       "      <td>0.539158</td>\n",
       "      <td>0.683135</td>\n",
       "      <td>1.000000</td>\n",
       "      <td>0.710435</td>\n",
       "      <td>0.720927</td>\n",
       "      <td>0.656302</td>\n",
       "      <td>-0.602546</td>\n",
       "      <td>0.140918</td>\n",
       "    </tr>\n",
       "    <tr>\n",
       "      <th>Length</th>\n",
       "      <td>NaN</td>\n",
       "      <td>0.541424</td>\n",
       "      <td>0.393364</td>\n",
       "      <td>0.839639</td>\n",
       "      <td>0.710435</td>\n",
       "      <td>1.000000</td>\n",
       "      <td>0.627163</td>\n",
       "      <td>0.563540</td>\n",
       "      <td>-0.446756</td>\n",
       "      <td>0.254980</td>\n",
       "    </tr>\n",
       "    <tr>\n",
       "      <th>Curb weight</th>\n",
       "      <td>NaN</td>\n",
       "      <td>0.760043</td>\n",
       "      <td>0.610131</td>\n",
       "      <td>0.651016</td>\n",
       "      <td>0.720927</td>\n",
       "      <td>0.627163</td>\n",
       "      <td>1.000000</td>\n",
       "      <td>0.863968</td>\n",
       "      <td>-0.818402</td>\n",
       "      <td>0.008628</td>\n",
       "    </tr>\n",
       "    <tr>\n",
       "      <th>Fuel capacity</th>\n",
       "      <td>NaN</td>\n",
       "      <td>0.663022</td>\n",
       "      <td>0.499907</td>\n",
       "      <td>0.654044</td>\n",
       "      <td>0.656302</td>\n",
       "      <td>0.563540</td>\n",
       "      <td>0.863968</td>\n",
       "      <td>1.000000</td>\n",
       "      <td>-0.801512</td>\n",
       "      <td>0.086540</td>\n",
       "    </tr>\n",
       "    <tr>\n",
       "      <th>Fuel efficiency</th>\n",
       "      <td>NaN</td>\n",
       "      <td>-0.734622</td>\n",
       "      <td>-0.611332</td>\n",
       "      <td>-0.497931</td>\n",
       "      <td>-0.602546</td>\n",
       "      <td>-0.446756</td>\n",
       "      <td>-0.818402</td>\n",
       "      <td>-0.801512</td>\n",
       "      <td>1.000000</td>\n",
       "      <td>-0.016764</td>\n",
       "    </tr>\n",
       "    <tr>\n",
       "      <th>Sales in thousands</th>\n",
       "      <td>NaN</td>\n",
       "      <td>0.019983</td>\n",
       "      <td>-0.197756</td>\n",
       "      <td>0.358179</td>\n",
       "      <td>0.140918</td>\n",
       "      <td>0.254980</td>\n",
       "      <td>0.008628</td>\n",
       "      <td>0.086540</td>\n",
       "      <td>-0.016764</td>\n",
       "      <td>1.000000</td>\n",
       "    </tr>\n",
       "  </tbody>\n",
       "</table>\n",
       "</div>"
      ],
      "text/plain": [
       "                    Unnamed: 2  Engine size  Horsepower  Wheelbase     Width  \\\n",
       "Unnamed: 2                 NaN          NaN         NaN        NaN       NaN   \n",
       "Engine size                NaN     1.000000    0.837360   0.472130  0.690398   \n",
       "Horsepower                 NaN     0.837360    1.000000   0.286308  0.539158   \n",
       "Wheelbase                  NaN     0.472130    0.286308   1.000000  0.683135   \n",
       "Width                      NaN     0.690398    0.539158   0.683135  1.000000   \n",
       "Length                     NaN     0.541424    0.393364   0.839639  0.710435   \n",
       "Curb weight                NaN     0.760043    0.610131   0.651016  0.720927   \n",
       "Fuel capacity              NaN     0.663022    0.499907   0.654044  0.656302   \n",
       "Fuel efficiency            NaN    -0.734622   -0.611332  -0.497931 -0.602546   \n",
       "Sales in thousands         NaN     0.019983   -0.197756   0.358179  0.140918   \n",
       "\n",
       "                      Length  Curb weight  Fuel capacity  Fuel efficiency  \\\n",
       "Unnamed: 2               NaN          NaN            NaN              NaN   \n",
       "Engine size         0.541424     0.760043       0.663022        -0.734622   \n",
       "Horsepower          0.393364     0.610131       0.499907        -0.611332   \n",
       "Wheelbase           0.839639     0.651016       0.654044        -0.497931   \n",
       "Width               0.710435     0.720927       0.656302        -0.602546   \n",
       "Length              1.000000     0.627163       0.563540        -0.446756   \n",
       "Curb weight         0.627163     1.000000       0.863968        -0.818402   \n",
       "Fuel capacity       0.563540     0.863968       1.000000        -0.801512   \n",
       "Fuel efficiency    -0.446756    -0.818402      -0.801512         1.000000   \n",
       "Sales in thousands  0.254980     0.008628       0.086540        -0.016764   \n",
       "\n",
       "                    Sales in thousands  \n",
       "Unnamed: 2                         NaN  \n",
       "Engine size                   0.019983  \n",
       "Horsepower                   -0.197756  \n",
       "Wheelbase                     0.358179  \n",
       "Width                         0.140918  \n",
       "Length                        0.254980  \n",
       "Curb weight                   0.008628  \n",
       "Fuel capacity                 0.086540  \n",
       "Fuel efficiency              -0.016764  \n",
       "Sales in thousands            1.000000  "
      ]
     },
     "execution_count": 13,
     "metadata": {},
     "output_type": "execute_result"
    }
   ],
   "source": [
    "df.corr()"
   ]
  },
  {
   "cell_type": "markdown",
   "metadata": {},
   "source": [
    "<div style=\"background-color:##EDF9FF\">\n",
    " <ul><li><h3>Test/Train split</h3></li></ul>\n",
    "</div>"
   ]
  },
  {
   "cell_type": "code",
   "execution_count": 14,
   "metadata": {
    "scrolled": true
   },
   "outputs": [
    {
     "data": {
      "text/html": [
       "<div>\n",
       "<style scoped>\n",
       "    .dataframe tbody tr th:only-of-type {\n",
       "        vertical-align: middle;\n",
       "    }\n",
       "\n",
       "    .dataframe tbody tr th {\n",
       "        vertical-align: top;\n",
       "    }\n",
       "\n",
       "    .dataframe thead th {\n",
       "        text-align: right;\n",
       "    }\n",
       "</style>\n",
       "<table border=\"1\" class=\"dataframe\">\n",
       "  <thead>\n",
       "    <tr style=\"text-align: right;\">\n",
       "      <th></th>\n",
       "      <th>name</th>\n",
       "      <th>mfr</th>\n",
       "      <th>type</th>\n",
       "      <th>calories</th>\n",
       "      <th>protein</th>\n",
       "      <th>fat</th>\n",
       "      <th>sodium</th>\n",
       "      <th>fiber</th>\n",
       "      <th>carbo</th>\n",
       "      <th>sugars</th>\n",
       "      <th>potass</th>\n",
       "      <th>vitamins</th>\n",
       "      <th>shelf</th>\n",
       "      <th>weight</th>\n",
       "      <th>cups</th>\n",
       "      <th>rating</th>\n",
       "    </tr>\n",
       "  </thead>\n",
       "  <tbody>\n",
       "    <tr>\n",
       "      <th>0</th>\n",
       "      <td>100% Bran</td>\n",
       "      <td>N</td>\n",
       "      <td>C</td>\n",
       "      <td>70</td>\n",
       "      <td>4</td>\n",
       "      <td>1</td>\n",
       "      <td>130</td>\n",
       "      <td>10.0</td>\n",
       "      <td>5.0</td>\n",
       "      <td>6</td>\n",
       "      <td>280.0</td>\n",
       "      <td>25</td>\n",
       "      <td>3</td>\n",
       "      <td>1.0</td>\n",
       "      <td>0.33</td>\n",
       "      <td>68.402973</td>\n",
       "    </tr>\n",
       "    <tr>\n",
       "      <th>1</th>\n",
       "      <td>100% Natural Bran</td>\n",
       "      <td>Q</td>\n",
       "      <td>C</td>\n",
       "      <td>120</td>\n",
       "      <td>3</td>\n",
       "      <td>5</td>\n",
       "      <td>15</td>\n",
       "      <td>2.0</td>\n",
       "      <td>8.0</td>\n",
       "      <td>8</td>\n",
       "      <td>135.0</td>\n",
       "      <td>0</td>\n",
       "      <td>3</td>\n",
       "      <td>1.0</td>\n",
       "      <td>1.00</td>\n",
       "      <td>33.983679</td>\n",
       "    </tr>\n",
       "    <tr>\n",
       "      <th>2</th>\n",
       "      <td>All-Bran</td>\n",
       "      <td>K</td>\n",
       "      <td>C</td>\n",
       "      <td>70</td>\n",
       "      <td>4</td>\n",
       "      <td>1</td>\n",
       "      <td>260</td>\n",
       "      <td>9.0</td>\n",
       "      <td>7.0</td>\n",
       "      <td>5</td>\n",
       "      <td>320.0</td>\n",
       "      <td>25</td>\n",
       "      <td>3</td>\n",
       "      <td>1.0</td>\n",
       "      <td>0.33</td>\n",
       "      <td>59.425505</td>\n",
       "    </tr>\n",
       "    <tr>\n",
       "      <th>3</th>\n",
       "      <td>All-Bran with Extra Fiber</td>\n",
       "      <td>K</td>\n",
       "      <td>C</td>\n",
       "      <td>50</td>\n",
       "      <td>4</td>\n",
       "      <td>0</td>\n",
       "      <td>140</td>\n",
       "      <td>14.0</td>\n",
       "      <td>8.0</td>\n",
       "      <td>0</td>\n",
       "      <td>330.0</td>\n",
       "      <td>25</td>\n",
       "      <td>3</td>\n",
       "      <td>1.0</td>\n",
       "      <td>0.50</td>\n",
       "      <td>93.704912</td>\n",
       "    </tr>\n",
       "    <tr>\n",
       "      <th>4</th>\n",
       "      <td>Almond Delight</td>\n",
       "      <td>R</td>\n",
       "      <td>C</td>\n",
       "      <td>110</td>\n",
       "      <td>2</td>\n",
       "      <td>2</td>\n",
       "      <td>200</td>\n",
       "      <td>1.0</td>\n",
       "      <td>14.0</td>\n",
       "      <td>8</td>\n",
       "      <td>NaN</td>\n",
       "      <td>25</td>\n",
       "      <td>3</td>\n",
       "      <td>1.0</td>\n",
       "      <td>0.75</td>\n",
       "      <td>34.384843</td>\n",
       "    </tr>\n",
       "  </tbody>\n",
       "</table>\n",
       "</div>"
      ],
      "text/plain": [
       "                        name mfr type  calories  protein  fat  sodium  fiber  \\\n",
       "0                  100% Bran   N    C        70        4    1     130   10.0   \n",
       "1          100% Natural Bran   Q    C       120        3    5      15    2.0   \n",
       "2                   All-Bran   K    C        70        4    1     260    9.0   \n",
       "3  All-Bran with Extra Fiber   K    C        50        4    0     140   14.0   \n",
       "4             Almond Delight   R    C       110        2    2     200    1.0   \n",
       "\n",
       "   carbo  sugars  potass  vitamins  shelf  weight  cups     rating  \n",
       "0    5.0       6   280.0        25      3     1.0  0.33  68.402973  \n",
       "1    8.0       8   135.0         0      3     1.0  1.00  33.983679  \n",
       "2    7.0       5   320.0        25      3     1.0  0.33  59.425505  \n",
       "3    8.0       0   330.0        25      3     1.0  0.50  93.704912  \n",
       "4   14.0       8     NaN        25      3     1.0  0.75  34.384843  "
      ]
     },
     "execution_count": 14,
     "metadata": {},
     "output_type": "execute_result"
    }
   ],
   "source": [
    "#importing libraries\n",
    "import pandas as pd\n",
    "from sklearn.model_selection import train_test_split\n",
    "#read the data-sets\n",
    "df=pd.read_csv('cereal.csv')\n",
    "df.head()"
   ]
  },
  {
   "cell_type": "code",
   "execution_count": 15,
   "metadata": {
    "scrolled": true
   },
   "outputs": [
    {
     "name": "stdout",
     "output_type": "stream",
     "text": [
      "Trained data-set: (61, 2)\n",
      "Test data-set: (16, 2)\n"
     ]
    }
   ],
   "source": [
    "#Restructuring the Dataframe \n",
    "x=df[['calories','protein']].values \n",
    "y=df['rating'].values\n",
    "# Splitting the data-set into training and testing into 80%-20%\n",
    "x_train,x_test,y_train,y_test=train_test_split(x,y,test_size=0.2)\n",
    "# train data-set is observed to be 80% of data\n",
    "print('Trained data-set:',x_train.shape)\n",
    "#test data-set is observed to be 20% of data\n",
    "print('Test data-set:',x_test.shape)"
   ]
  },
  {
   "cell_type": "markdown",
   "metadata": {},
   "source": [
    "<b>conclusion</b> : we have performed different pre-processing techniques and train/test splitted the data as well"
   ]
  },
  {
   "cell_type": "code",
   "execution_count": null,
   "metadata": {},
   "outputs": [],
   "source": []
  },
  {
   "cell_type": "code",
   "execution_count": null,
   "metadata": {},
   "outputs": [],
   "source": []
  }
 ],
 "metadata": {
  "kernelspec": {
   "display_name": "Python 3",
   "language": "python",
   "name": "python3"
  },
  "language_info": {
   "codemirror_mode": {
    "name": "ipython",
    "version": 3
   },
   "file_extension": ".py",
   "mimetype": "text/x-python",
   "name": "python",
   "nbconvert_exporter": "python",
   "pygments_lexer": "ipython3",
   "version": "3.8.8"
  }
 },
 "nbformat": 4,
 "nbformat_minor": 2
}
